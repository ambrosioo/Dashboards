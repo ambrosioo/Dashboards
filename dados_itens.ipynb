{
  "nbformat": 4,
  "nbformat_minor": 0,
  "metadata": {
    "colab": {
      "provenance": [],
      "include_colab_link": true
    },
    "kernelspec": {
      "name": "python3",
      "display_name": "Python 3"
    },
    "language_info": {
      "name": "python"
    }
  },
  "cells": [
    {
      "cell_type": "markdown",
      "metadata": {
        "id": "view-in-github",
        "colab_type": "text"
      },
      "source": [
        "<a href=\"https://colab.research.google.com/github/ambrosioo/Dashboards/blob/main/dados_itens.ipynb\" target=\"_parent\"><img src=\"https://colab.research.google.com/assets/colab-badge.svg\" alt=\"Open In Colab\"/></a>"
      ]
    },
    {
      "cell_type": "code",
      "source": [
        "import pandas as pd\n",
        "from datetime import timedelta\n",
        "\n",
        "df = pd.read_excel('relatorio_de_itens.xlsx')\n",
        "\n",
        "feriados = [\n",
        "    '2024-01-01',\n",
        "    '2024-02-12',\n",
        "    '2024-02-13',\n",
        "    '2024-02-14',\n",
        "    '2024-01-25'\n",
        "]\n",
        "\n",
        "df['Aberto'] = pd.to_datetime(df['Aberto'])\n",
        "\n",
        "df['Tempo de resolução'] = pd.to_datetime(df['Tempo de resolução'], errors='coerce')\n",
        "\n",
        "def is_dia_util(data):\n",
        "    if data.weekday() >= 5:\n",
        "        return False\n",
        "    if data.strftime('%Y-%m-%d') in feriados:\n",
        "        return False\n",
        "    return True\n",
        "\n",
        "def dias_uteis_entre_datas(data_inicio, data_fim):\n",
        "    if pd.isnull(data_fim):\n",
        "        return pd.NaT\n",
        "    dias_uteis = 0\n",
        "    for i in range((data_fim - data_inicio).days + 1):\n",
        "        dia = data_inicio + timedelta(days=i)\n",
        "        if is_dia_util(dia):\n",
        "            dias_uteis += 1\n",
        "    return dias_uteis\n",
        "\n",
        "df['Tempo de resolução_dias_uteis'] = df.apply(lambda row: dias_uteis_entre_datas(row['Aberto'], row['Tempo de resolução']), axis=1)\n",
        "\n",
        "def sla_atendido(tipo_solicitacao, dias_uteis):\n",
        "    if pd.isnull(dias_uteis):\n",
        "        return \"\"\n",
        "\n",
        "    sla = {\n",
        "        \"Ajustar um item\": 8,\n",
        "        \"Copiar um item\": 3,\n",
        "        \"Criar um item\": 8,\n",
        "        \"Expandir um item\": 5\n",
        "    }\n",
        "    if dias_uteis > sla[tipo_solicitacao]:\n",
        "        return \"out\"\n",
        "    else:\n",
        "        return \"in\"\n",
        "\n",
        "df['SLA IN/OUT'] = df.apply(lambda row: sla_atendido(row['Qual tipo de Solicitação?'], row['Tempo de resolução_dias_uteis']), axis=1)\n",
        "\n",
        "print(df)\n"
      ],
      "metadata": {
        "colab": {
          "base_uri": "https://localhost:8080/"
        },
        "id": "uW48ZN1d-H_0",
        "outputId": "2ec6a354-3ece-4cf3-d3cf-3321649cc60a"
      },
      "execution_count": null,
      "outputs": [
        {
          "output_type": "stream",
          "name": "stderr",
          "text": [
            "/usr/local/lib/python3.10/dist-packages/openpyxl/styles/stylesheet.py:226: UserWarning: Workbook contains no default style, apply openpyxl's default\n",
            "  warn(\"Workbook contains no default style, apply openpyxl's default\")\n"
          ]
        },
        {
          "output_type": "stream",
          "name": "stdout",
          "text": [
            "       Número              Aberto     Estado                       Item  \\\n",
            "0   SR0239664 2024-03-20 09:47:53     Aberto  Itens de Compras | Oracle   \n",
            "1   SR0239525 2024-03-20 08:12:40     Aberto  Itens de Compras | Oracle   \n",
            "2   SR0238944 2024-03-18 15:56:20  Resolvido  Itens de Compras | Oracle   \n",
            "3   SR0238940 2024-03-18 15:53:46     Aberto  Itens de Compras | Oracle   \n",
            "4   SR0238935 2024-03-18 15:51:17  Resolvido  Itens de Compras | Oracle   \n",
            "..        ...                 ...        ...                        ...   \n",
            "83  SR0220111 2024-01-10 16:07:17    Fechado  Itens de Compras | Oracle   \n",
            "84  SR0220110 2024-01-10 16:06:28    Fechado  Itens de Compras | Oracle   \n",
            "85  SR0220041 2024-01-10 14:06:03  Cancelado  Itens de Compras | Oracle   \n",
            "86  SR0220013 2024-01-10 13:07:25    Fechado  Itens de Compras | Oracle   \n",
            "87  SR0219782 2024-01-09 16:18:12    Fechado  Itens de Compras | Oracle   \n",
            "\n",
            "    Tarefa de entrega  Tarefa para  \\\n",
            "0                 NaN          NaN   \n",
            "1                 NaN          NaN   \n",
            "2                 NaN          NaN   \n",
            "3                 NaN          NaN   \n",
            "4                 NaN          NaN   \n",
            "..                ...          ...   \n",
            "83                NaN          NaN   \n",
            "84                NaN          NaN   \n",
            "85                NaN          NaN   \n",
            "86                NaN          NaN   \n",
            "87                NaN          NaN   \n",
            "\n",
            "                  Comentários e anotações de trabalho  Lista de observação  \\\n",
            "0                                                 NaN                  NaN   \n",
            "1                                                 NaN                  NaN   \n",
            "2   20/03/2024 14:24:47 - Beatriz Souza Da Conceiç...                  NaN   \n",
            "3                                                 NaN                  NaN   \n",
            "4   20/03/2024 14:26:11 - Beatriz Souza Da Conceiç...                  NaN   \n",
            "..                                                ...                  ...   \n",
            "83  17/01/2024 12:20:07 - Matheus Ambrosio de Oliv...                  NaN   \n",
            "84  17/01/2024 12:19:25 - Matheus Ambrosio de Oliv...                  NaN   \n",
            "85  10/01/2024 15:41:23 - Matheus Ambrosio de Oliv...                  NaN   \n",
            "86  10/01/2024 19:52:48 - Matheus Ambrosio de Oliv...                  NaN   \n",
            "87  12/01/2024 15:55:13 - Matheus Ambrosio de Oliv...                  NaN   \n",
            "\n",
            "    Lista de anotações de trabalho  Descrição  ...  Universal Request  \\\n",
            "0                              NaN        NaN  ...                NaN   \n",
            "1                              NaN        NaN  ...                NaN   \n",
            "2                              NaN        NaN  ...                NaN   \n",
            "3                              NaN        NaN  ...                NaN   \n",
            "4                              NaN        NaN  ...                NaN   \n",
            "..                             ...        ...  ...                ...   \n",
            "83                             NaN        NaN  ...                NaN   \n",
            "84                             NaN        NaN  ...                NaN   \n",
            "85                             NaN        NaN  ...                NaN   \n",
            "86                             NaN        NaN  ...                NaN   \n",
            "87                             NaN        NaN  ...                NaN   \n",
            "\n",
            "        Urgência  Vencimento da atividade  \\\n",
            "0   3 - Baixo(a)                      NaN   \n",
            "1   3 - Baixo(a)                      NaN   \n",
            "2   3 - Baixo(a)                      NaN   \n",
            "3   3 - Baixo(a)                      NaN   \n",
            "4   3 - Baixo(a)                      NaN   \n",
            "..           ...                      ...   \n",
            "83  3 - Baixo(a)                      NaN   \n",
            "84  3 - Baixo(a)                      NaN   \n",
            "85  3 - Baixo(a)                      NaN   \n",
            "86  3 - Baixo(a)                      NaN   \n",
            "87  3 - Baixo(a)                      NaN   \n",
            "\n",
            "                                   Descrição resumida                  Fase  \\\n",
            "0   Solicitação de criação de itens de compras no ...  Solicitação Aprovada   \n",
            "1   Solicitação de criação de itens de compras no ...  Solicitação Aprovada   \n",
            "2   Solicitação de criação de itens de compras no ...  Solicitação Aprovada   \n",
            "3   Solicitação de criação de itens de compras no ...  Solicitação Aprovada   \n",
            "4   Solicitação de criação de itens de compras no ...  Solicitação Aprovada   \n",
            "..                                                ...                   ...   \n",
            "83  Solicitação de criação de itens de compras no ...  Solicitação Aprovada   \n",
            "84  Solicitação de criação de itens de compras no ...  Solicitação Aprovada   \n",
            "85  Solicitação de criação de itens de compras no ...     Request Cancelled   \n",
            "86  Solicitação de criação de itens de compras no ...  Solicitação Aprovada   \n",
            "87  Solicitação de criação de itens de compras no ...  Solicitação Aprovada   \n",
            "\n",
            "         Prioridade Tipo de tarefa  Qual tipo de Solicitação?  \\\n",
            "0   3 - Moderado(a)        Serviço              Criar um item   \n",
            "1   3 - Moderado(a)        Serviço              Criar um item   \n",
            "2   3 - Moderado(a)        Serviço            Ajustar um item   \n",
            "3   3 - Moderado(a)        Serviço            Ajustar um item   \n",
            "4   3 - Moderado(a)        Serviço            Ajustar um item   \n",
            "..              ...            ...                        ...   \n",
            "83  3 - Moderado(a)        Serviço              Criar um item   \n",
            "84  3 - Moderado(a)        Serviço              Criar um item   \n",
            "85  3 - Moderado(a)        Serviço              Criar um item   \n",
            "86  3 - Moderado(a)        Serviço           Expandir um item   \n",
            "87  3 - Moderado(a)        Serviço              Criar um item   \n",
            "\n",
            "   Tempo de resolução_dias_uteis SLA IN/OUT  \n",
            "0                            NaT             \n",
            "1                            NaT             \n",
            "2                              2         in  \n",
            "3                            NaT             \n",
            "4                              2         in  \n",
            "..                           ...        ...  \n",
            "83                             5         in  \n",
            "84                             5         in  \n",
            "85                           NaT             \n",
            "86                             1         in  \n",
            "87                             3         in  \n",
            "\n",
            "[88 rows x 79 columns]\n"
          ]
        }
      ]
    },
    {
      "cell_type": "code",
      "source": [
        "df.to_excel('resultado_analise.xlsx', index=False)\n"
      ],
      "metadata": {
        "id": "sh1xqJ3s-sNK"
      },
      "execution_count": null,
      "outputs": []
    },
    {
      "cell_type": "code",
      "source": [
        "df.to_csv('resultado_analise.csv', index=False)"
      ],
      "metadata": {
        "id": "RzRN448y_ZNF"
      },
      "execution_count": null,
      "outputs": []
    },
    {
      "cell_type": "code",
      "source": [],
      "metadata": {
        "id": "ier-XzZ8zLCz"
      },
      "execution_count": null,
      "outputs": []
    }
  ]
}